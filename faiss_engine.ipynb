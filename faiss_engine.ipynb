{
 "cells": [
  {
   "cell_type": "markdown",
   "metadata": {},
   "source": [
    "Семантический поиск для диплома одногруппника :)"
   ]
  },
  {
   "cell_type": "code",
   "execution_count": null,
   "metadata": {
    "id": "BMwxbYtlyJLj"
   },
   "outputs": [],
   "source": [
    "!pip install transformers[torch] datasets tokenizers"
   ]
  },
  {
   "cell_type": "code",
   "execution_count": 4,
   "metadata": {
    "id": "6gkVPJLlyTO1"
   },
   "outputs": [],
   "source": [
    "import torch\n",
    "\n",
    "from datasets import load_dataset\n",
    "from transformers import AutoModel, AutoTokenizer"
   ]
  },
  {
   "cell_type": "code",
   "execution_count": null,
   "metadata": {
    "id": "SpGXzoYozCSy"
   },
   "outputs": [],
   "source": [
    "dataset = load_dataset(\"csv\", data_files=\"data.csv\")"
   ]
  },
  {
   "cell_type": "code",
   "execution_count": null,
   "metadata": {
    "id": "VH4GOCudzsiw"
   },
   "outputs": [],
   "source": [
    "use_cuda = False\n",
    "device = torch.device(\"cuda\" if torch.cuda.is_available() and use_cuda else \"cpu\")\n",
    "checkpoint = \"ai-forever/ruBert-base\"\n",
    "\n",
    "model = AutoModel.from_pretrained(checkpoint)\n",
    "tokenizer = AutoTokenizer.from_pretrained(checkpoint)\n",
    "\n",
    "model = model.to(device)\n",
    "\n",
    "\n",
    "def cls_pooling(output):\n",
    "  return output.last_hidden_state[:, 0]\n",
    "\n",
    "\n",
    "def get_embeddings(text_list):\n",
    "    encoded_input = tokenizer(\n",
    "        text_list, padding=True, truncation=True, return_tensors=\"pt\"\n",
    "    )\n",
    "    encoded_input = {k: v.to(device) for k, v in encoded_input.items()}\n",
    "\n",
    "    with torch.no_grad():\n",
    "        model_output = model(**encoded_input)\n",
    "\n",
    "    return cls_pooling(model_output)\n",
    "\n",
    "\n",
    "def engine_factory(model, tokenizer, dataset, topk=1):\n",
    "    def get_topk_closest_documents(query):\n",
    "        query_vector = get_embeddings(query).cpu().detach().numpy()\n",
    "        scores, samples = dataset.get_nearest_examples(\n",
    "            \"embeddings\", query_vector, k=topk\n",
    "        )\n",
    "        return scores, samples\n",
    "    return get_topk_closest_documents\n",
    "\n",
    "dataset = dataset.map(\n",
    "    lambda x: {\"embeddings\": get_embeddings(x[\"text\"]).detach().cpu().numpy()[0]}\n",
    ")\n",
    "\n",
    "dataset = dataset.add_faiss_index(column=\"embeddings\")\n",
    "\n",
    "engine = engine_factory(model, tokenizer, dataset, topk=1)\n",
    "\n",
    "your_message = \"Я курю лесную дурь и Вопросы Федеральной службы охраны Российской Федерации №1013 бла бла бла\"\n",
    "\n",
    "scores, samples = engine(your_message)"
   ]
  }
 ],
 "metadata": {
  "colab": {
   "provenance": []
  },
  "kernelspec": {
   "display_name": "Python 3",
   "language": "python",
   "name": "python3"
  },
  "language_info": {
   "codemirror_mode": {
    "name": "ipython",
    "version": 3
   },
   "file_extension": ".py",
   "mimetype": "text/x-python",
   "name": "python",
   "nbconvert_exporter": "python",
   "pygments_lexer": "ipython3",
   "version": "3.9.2"
  }
 },
 "nbformat": 4,
 "nbformat_minor": 1
}
